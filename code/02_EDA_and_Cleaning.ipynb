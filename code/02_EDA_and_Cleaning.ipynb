{
 "cells": [
  {
   "cell_type": "markdown",
   "id": "638a8206-2102-4037-b9d3-6b2820f4310c",
   "metadata": {},
   "source": [
    "# EDA and Data Cleaning"
   ]
  },
  {
   "cell_type": "markdown",
   "id": "369be0bc-c1a3-46aa-9e42-e12134b87b7f",
   "metadata": {},
   "source": [
    "\n",
    "\n",
    "## Outline\n",
    "\n",
    "1. Read raw data, merge data from separate files and drop duplicates.\n",
    "2. Inspect DataFrame (shape, dtypes, column names).\n",
    "\n",
    "3. Process/clean NLP data.\n",
    "  \n",
    "    3a. Define functions for cleaning the dataframe and processing.\n",
    "    \n",
    "    3b. Check missing values.\n",
    "    \n",
    "    3c. Combine `title` and `selftext` columns into one `post` column. This is done to maximize data available and limit posts with only a title and image or short non-descriptive title.\n",
    "    \n",
    "    3d. Clean `post` column: remove non-letters and stopwords, make lower case.\n",
    "    \n",
    "    \n",
    "4. `CountVectorize` and check most common words\n",
    "    4a. Define list of additional meaningless words to remove and clean them. Subreddit names should be included.\n",
    "5. `TfIdfVectorize` and check words with highest and lowest IDF.\n",
    "6. Save cleaned `DataFrame` and define data dictionary\n",
    "    "
   ]
  },
  {
   "cell_type": "code",
   "execution_count": 51,
   "id": "b7bf1914-961b-44ff-8ca6-223fbb883fbc",
   "metadata": {},
   "outputs": [],
   "source": [
    "import praw\n",
    "import pandas as pd\n",
    "import numpy as np\n",
    "import seaborn as sns\n",
    "import matplotlib.pyplot as plt\n",
    "import nltk\n",
    "from bs4 import BeautifulSoup"
   ]
  },
  {
   "cell_type": "code",
   "execution_count": 52,
   "id": "cb6106b7",
   "metadata": {},
   "outputs": [],
   "source": [
    "# define some functions for printing of markdown tables\n",
    "\n",
    "def markdown_from_df(df):\n",
    "    print(f\"{df.to_markdown(index=True)}\")\n",
    "\n",
    "def mdtbl_from_df(df):\n",
    "    \n",
    "    print(f\"| `{df.index.name if df.index.name is not None else ''}` |\" + \" | \".join([ f\"`{c}` \"  for c in df.columns])+ \"| \")\n",
    "    print(f\"| --- \"*(len(df.columns)+1) + \" | \")\n",
    "    for i in df.index:\n",
    "        print(f\"| `{i}` |\" + \" | \".join([f\"{df.loc[i,c]}\"  for c in df.columns])+\" |\")\n",
    "\n",
    "    return # print(tbl_hdr)"
   ]
  },
  {
   "cell_type": "markdown",
   "id": "450a6634-6932-412f-8439-59a88ddf5bcc",
   "metadata": {},
   "source": [
    "## 1. Read and merge data"
   ]
  },
  {
   "cell_type": "code",
   "execution_count": 53,
   "id": "d09f2e76-112f-4166-b317-c6cc6b96d361",
   "metadata": {},
   "outputs": [
    {
     "name": "stdout",
     "output_type": "stream",
     "text": [
      "data_raw_askastrologers_askastronomy_2024-01-27_20-06-07.csv\n",
      "data_raw_askastrologers_askastronomy_2024-01-27_20-55-01.csv\n",
      "data_raw_askastrologers_askastronomy_2024-01-29_14-49-04.csv\n",
      "data_raw_askastrologers_askastronomy_2024-01-29_22-51-36.csv\n",
      "data_raw_askastrologers_askastronomy_2024-01-30_13-50-47.csv\n",
      "data_raw_askastrologers_askastronomy_2024-02-01_05-41-35.csv\n"
     ]
    }
   ],
   "source": [
    "import os,sys\n",
    "\n",
    "flist = sorted([str(f) for f in list(os.listdir('../data')) if 'raw_askastrologers_askastronomy' in f])\n",
    "\n",
    "df_list=[]\n",
    "for f in flist:\n",
    "    print(f)\n",
    "    df_list.append(pd.read_csv(f'../data/{f}',index_col='name',\n",
    "                       parse_dates=['created_utc'])[['created_utc','title','selftext','subreddit']])\n"
   ]
  },
  {
   "cell_type": "code",
   "execution_count": 54,
   "id": "6c58fd9e",
   "metadata": {},
   "outputs": [],
   "source": [
    "df_list=df_list[:-1] # pulled last file after writing everything  up"
   ]
  },
  {
   "cell_type": "code",
   "execution_count": 55,
   "id": "c65f0ff9-a491-49a0-8454-f73573981677",
   "metadata": {},
   "outputs": [],
   "source": [
    "# make combined dataframe\n",
    "df_merged=pd.concat(df_list,axis=0,join='inner')#drop_duplicates(subset='name').drop(columns=['Unnamed: 0'])"
   ]
  },
  {
   "cell_type": "code",
   "execution_count": 56,
   "id": "10f198cf",
   "metadata": {},
   "outputs": [
    {
     "data": {
      "text/html": [
       "<div>\n",
       "<style scoped>\n",
       "    .dataframe tbody tr th:only-of-type {\n",
       "        vertical-align: middle;\n",
       "    }\n",
       "\n",
       "    .dataframe tbody tr th {\n",
       "        vertical-align: top;\n",
       "    }\n",
       "\n",
       "    .dataframe thead th {\n",
       "        text-align: right;\n",
       "    }\n",
       "</style>\n",
       "<table border=\"1\" class=\"dataframe\">\n",
       "  <thead>\n",
       "    <tr style=\"text-align: right;\">\n",
       "      <th></th>\n",
       "      <th>created_utc</th>\n",
       "      <th>title</th>\n",
       "      <th>selftext</th>\n",
       "      <th>subreddit</th>\n",
       "    </tr>\n",
       "    <tr>\n",
       "      <th>name</th>\n",
       "      <th></th>\n",
       "      <th></th>\n",
       "      <th></th>\n",
       "      <th></th>\n",
       "    </tr>\n",
       "  </thead>\n",
       "  <tbody>\n",
       "    <tr>\n",
       "      <th>t3_1acjmvr</th>\n",
       "      <td>2024-01-27 20:06:07</td>\n",
       "      <td>21F, will be 22 in Feb. Had terrible past rela...</td>\n",
       "      <td>Please explain in layman language. I'm very ne...</td>\n",
       "      <td>askastrologers</td>\n",
       "    </tr>\n",
       "    <tr>\n",
       "      <th>t3_1acjm0x</th>\n",
       "      <td>2024-01-27 20:05:05</td>\n",
       "      <td>Terrifying, but seemingly bang on— Second opin...</td>\n",
       "      <td>F32. Virgo Sun, Scorpio Moon and Sag ascendenc...</td>\n",
       "      <td>askastrologers</td>\n",
       "    </tr>\n",
       "    <tr>\n",
       "      <th>t3_1acjgy6</th>\n",
       "      <td>2024-01-27 19:59:11</td>\n",
       "      <td>How will Pluto in Aquarius from 2024 affect me?</td>\n",
       "      <td>I’m sorry if this is a frequent question. But ...</td>\n",
       "      <td>askastrologers</td>\n",
       "    </tr>\n",
       "    <tr>\n",
       "      <th>t3_1acjd62</th>\n",
       "      <td>2024-01-27 19:54:33</td>\n",
       "      <td>Should I time my pleasure trip for birthday or...</td>\n",
       "      <td>NaN</td>\n",
       "      <td>askastrologers</td>\n",
       "    </tr>\n",
       "    <tr>\n",
       "      <th>t3_1acjb0u</th>\n",
       "      <td>2024-01-27 19:51:56</td>\n",
       "      <td>advice ? compatibility</td>\n",
       "      <td>i’d love a reading or impression</td>\n",
       "      <td>askastrologers</td>\n",
       "    </tr>\n",
       "  </tbody>\n",
       "</table>\n",
       "</div>"
      ],
      "text/plain": [
       "                   created_utc  \\\n",
       "name                             \n",
       "t3_1acjmvr 2024-01-27 20:06:07   \n",
       "t3_1acjm0x 2024-01-27 20:05:05   \n",
       "t3_1acjgy6 2024-01-27 19:59:11   \n",
       "t3_1acjd62 2024-01-27 19:54:33   \n",
       "t3_1acjb0u 2024-01-27 19:51:56   \n",
       "\n",
       "                                                        title  \\\n",
       "name                                                            \n",
       "t3_1acjmvr  21F, will be 22 in Feb. Had terrible past rela...   \n",
       "t3_1acjm0x  Terrifying, but seemingly bang on— Second opin...   \n",
       "t3_1acjgy6    How will Pluto in Aquarius from 2024 affect me?   \n",
       "t3_1acjd62  Should I time my pleasure trip for birthday or...   \n",
       "t3_1acjb0u                             advice ? compatibility   \n",
       "\n",
       "                                                     selftext       subreddit  \n",
       "name                                                                           \n",
       "t3_1acjmvr  Please explain in layman language. I'm very ne...  askastrologers  \n",
       "t3_1acjm0x  F32. Virgo Sun, Scorpio Moon and Sag ascendenc...  askastrologers  \n",
       "t3_1acjgy6  I’m sorry if this is a frequent question. But ...  askastrologers  \n",
       "t3_1acjd62                                                NaN  askastrologers  \n",
       "t3_1acjb0u                   i’d love a reading or impression  askastrologers  "
      ]
     },
     "execution_count": 56,
     "metadata": {},
     "output_type": "execute_result"
    }
   ],
   "source": [
    "df_merged.head()"
   ]
  },
  {
   "cell_type": "code",
   "execution_count": 57,
   "id": "b3a09893",
   "metadata": {},
   "outputs": [
    {
     "name": "stdout",
     "output_type": "stream",
     "text": [
      "<class 'pandas.core.frame.DataFrame'>\n",
      "Index: 9912 entries, t3_1acjmvr to t3_10rbf9h\n",
      "Data columns (total 4 columns):\n",
      " #   Column       Non-Null Count  Dtype         \n",
      "---  ------       --------------  -----         \n",
      " 0   created_utc  9912 non-null   datetime64[ns]\n",
      " 1   title        9912 non-null   object        \n",
      " 2   selftext     7728 non-null   object        \n",
      " 3   subreddit    9912 non-null   object        \n",
      "dtypes: datetime64[ns](1), object(3)\n",
      "memory usage: 387.2+ KB\n"
     ]
    }
   ],
   "source": [
    "df_merged.info()"
   ]
  },
  {
   "cell_type": "markdown",
   "id": "22691b6c-11c9-450c-bcb2-5420f2b7ca09",
   "metadata": {},
   "source": [
    "## 2. Initial cleaning and inspection"
   ]
  },
  {
   "cell_type": "code",
   "execution_count": 58,
   "id": "b7fff4ac",
   "metadata": {},
   "outputs": [
    {
     "name": "stdout",
     "output_type": "stream",
     "text": [
      "Number of duplicate rows: 7673\n"
     ]
    }
   ],
   "source": [
    "print(f\"Number of duplicate rows: {df_merged.duplicated().sum()}\")"
   ]
  },
  {
   "cell_type": "markdown",
   "id": "8182ae39",
   "metadata": {},
   "source": [
    "__Drop dupblicate rows__ "
   ]
  },
  {
   "cell_type": "code",
   "execution_count": 59,
   "id": "2e2daff8",
   "metadata": {},
   "outputs": [],
   "source": [
    "df_merged.drop_duplicates(inplace=True)"
   ]
  },
  {
   "cell_type": "code",
   "execution_count": 60,
   "id": "2eaaf5c2",
   "metadata": {},
   "outputs": [
    {
     "data": {
      "text/html": [
       "<div>\n",
       "<style scoped>\n",
       "    .dataframe tbody tr th:only-of-type {\n",
       "        vertical-align: middle;\n",
       "    }\n",
       "\n",
       "    .dataframe tbody tr th {\n",
       "        vertical-align: top;\n",
       "    }\n",
       "\n",
       "    .dataframe thead th {\n",
       "        text-align: right;\n",
       "    }\n",
       "</style>\n",
       "<table border=\"1\" class=\"dataframe\">\n",
       "  <thead>\n",
       "    <tr style=\"text-align: right;\">\n",
       "      <th></th>\n",
       "      <th>created_utc</th>\n",
       "      <th>title</th>\n",
       "      <th>selftext</th>\n",
       "      <th>subreddit</th>\n",
       "    </tr>\n",
       "    <tr>\n",
       "      <th>name</th>\n",
       "      <th></th>\n",
       "      <th></th>\n",
       "      <th></th>\n",
       "      <th></th>\n",
       "    </tr>\n",
       "  </thead>\n",
       "  <tbody>\n",
       "    <tr>\n",
       "      <th>t3_1acjmvr</th>\n",
       "      <td>2024-01-27 20:06:07</td>\n",
       "      <td>21F, will be 22 in Feb. Had terrible past rela...</td>\n",
       "      <td>Please explain in layman language. I'm very ne...</td>\n",
       "      <td>askastrologers</td>\n",
       "    </tr>\n",
       "    <tr>\n",
       "      <th>t3_1acjm0x</th>\n",
       "      <td>2024-01-27 20:05:05</td>\n",
       "      <td>Terrifying, but seemingly bang on— Second opin...</td>\n",
       "      <td>F32. Virgo Sun, Scorpio Moon and Sag ascendenc...</td>\n",
       "      <td>askastrologers</td>\n",
       "    </tr>\n",
       "    <tr>\n",
       "      <th>t3_1acjgy6</th>\n",
       "      <td>2024-01-27 19:59:11</td>\n",
       "      <td>How will Pluto in Aquarius from 2024 affect me?</td>\n",
       "      <td>I’m sorry if this is a frequent question. But ...</td>\n",
       "      <td>askastrologers</td>\n",
       "    </tr>\n",
       "    <tr>\n",
       "      <th>t3_1acjd62</th>\n",
       "      <td>2024-01-27 19:54:33</td>\n",
       "      <td>Should I time my pleasure trip for birthday or...</td>\n",
       "      <td>NaN</td>\n",
       "      <td>askastrologers</td>\n",
       "    </tr>\n",
       "    <tr>\n",
       "      <th>t3_1acjb0u</th>\n",
       "      <td>2024-01-27 19:51:56</td>\n",
       "      <td>advice ? compatibility</td>\n",
       "      <td>i’d love a reading or impression</td>\n",
       "      <td>askastrologers</td>\n",
       "    </tr>\n",
       "  </tbody>\n",
       "</table>\n",
       "</div>"
      ],
      "text/plain": [
       "                   created_utc  \\\n",
       "name                             \n",
       "t3_1acjmvr 2024-01-27 20:06:07   \n",
       "t3_1acjm0x 2024-01-27 20:05:05   \n",
       "t3_1acjgy6 2024-01-27 19:59:11   \n",
       "t3_1acjd62 2024-01-27 19:54:33   \n",
       "t3_1acjb0u 2024-01-27 19:51:56   \n",
       "\n",
       "                                                        title  \\\n",
       "name                                                            \n",
       "t3_1acjmvr  21F, will be 22 in Feb. Had terrible past rela...   \n",
       "t3_1acjm0x  Terrifying, but seemingly bang on— Second opin...   \n",
       "t3_1acjgy6    How will Pluto in Aquarius from 2024 affect me?   \n",
       "t3_1acjd62  Should I time my pleasure trip for birthday or...   \n",
       "t3_1acjb0u                             advice ? compatibility   \n",
       "\n",
       "                                                     selftext       subreddit  \n",
       "name                                                                           \n",
       "t3_1acjmvr  Please explain in layman language. I'm very ne...  askastrologers  \n",
       "t3_1acjm0x  F32. Virgo Sun, Scorpio Moon and Sag ascendenc...  askastrologers  \n",
       "t3_1acjgy6  I’m sorry if this is a frequent question. But ...  askastrologers  \n",
       "t3_1acjd62                                                NaN  askastrologers  \n",
       "t3_1acjb0u                   i’d love a reading or impression  askastrologers  "
      ]
     },
     "execution_count": 60,
     "metadata": {},
     "output_type": "execute_result"
    }
   ],
   "source": [
    "df_merged.head(5)"
   ]
  },
  {
   "cell_type": "code",
   "execution_count": 61,
   "id": "7d1ed09a-963d-489a-b124-63cdf7fa9e12",
   "metadata": {},
   "outputs": [
    {
     "data": {
      "text/html": [
       "<div>\n",
       "<style scoped>\n",
       "    .dataframe tbody tr th:only-of-type {\n",
       "        vertical-align: middle;\n",
       "    }\n",
       "\n",
       "    .dataframe tbody tr th {\n",
       "        vertical-align: top;\n",
       "    }\n",
       "\n",
       "    .dataframe thead th {\n",
       "        text-align: right;\n",
       "    }\n",
       "</style>\n",
       "<table border=\"1\" class=\"dataframe\">\n",
       "  <thead>\n",
       "    <tr style=\"text-align: right;\">\n",
       "      <th></th>\n",
       "      <th>created_utc</th>\n",
       "      <th>title</th>\n",
       "      <th>selftext</th>\n",
       "      <th>subreddit</th>\n",
       "    </tr>\n",
       "    <tr>\n",
       "      <th>name</th>\n",
       "      <th></th>\n",
       "      <th></th>\n",
       "      <th></th>\n",
       "      <th></th>\n",
       "    </tr>\n",
       "  </thead>\n",
       "  <tbody>\n",
       "    <tr>\n",
       "      <th>t3_1ae94w9</th>\n",
       "      <td>2024-01-29 23:07:21</td>\n",
       "      <td>need more of an understanding</td>\n",
       "      <td>this is my third one. I’m sorry for posting th...</td>\n",
       "      <td>askastronomy</td>\n",
       "    </tr>\n",
       "    <tr>\n",
       "      <th>t3_1ae93zn</th>\n",
       "      <td>2024-01-29 23:06:20</td>\n",
       "      <td>Does anybody know when I will get married and ...</td>\n",
       "      <td>NaN</td>\n",
       "      <td>askastrologers</td>\n",
       "    </tr>\n",
       "    <tr>\n",
       "      <th>t3_1ae92vu</th>\n",
       "      <td>2024-01-29 23:05:00</td>\n",
       "      <td>Can someone explain this question to me please</td>\n",
       "      <td>I just need more understandings of this becaus...</td>\n",
       "      <td>askastronomy</td>\n",
       "    </tr>\n",
       "    <tr>\n",
       "      <th>t3_1ae91uw</th>\n",
       "      <td>2024-01-29 23:03:42</td>\n",
       "      <td>can someone explain this to me</td>\n",
       "      <td>i need more help understanding this i dont kno...</td>\n",
       "      <td>askastronomy</td>\n",
       "    </tr>\n",
       "    <tr>\n",
       "      <th>t3_1ae8wx0</th>\n",
       "      <td>2024-01-29 22:58:01</td>\n",
       "      <td>do i draw in bad luck and financial hardships</td>\n",
       "      <td>is it possible to see that on a birth chart? f...</td>\n",
       "      <td>askastrologers</td>\n",
       "    </tr>\n",
       "  </tbody>\n",
       "</table>\n",
       "</div>"
      ],
      "text/plain": [
       "                   created_utc  \\\n",
       "name                             \n",
       "t3_1ae94w9 2024-01-29 23:07:21   \n",
       "t3_1ae93zn 2024-01-29 23:06:20   \n",
       "t3_1ae92vu 2024-01-29 23:05:00   \n",
       "t3_1ae91uw 2024-01-29 23:03:42   \n",
       "t3_1ae8wx0 2024-01-29 22:58:01   \n",
       "\n",
       "                                                        title  \\\n",
       "name                                                            \n",
       "t3_1ae94w9                      need more of an understanding   \n",
       "t3_1ae93zn  Does anybody know when I will get married and ...   \n",
       "t3_1ae92vu     Can someone explain this question to me please   \n",
       "t3_1ae91uw                     can someone explain this to me   \n",
       "t3_1ae8wx0      do i draw in bad luck and financial hardships   \n",
       "\n",
       "                                                     selftext       subreddit  \n",
       "name                                                                           \n",
       "t3_1ae94w9  this is my third one. I’m sorry for posting th...    askastronomy  \n",
       "t3_1ae93zn                                                NaN  askastrologers  \n",
       "t3_1ae92vu  I just need more understandings of this becaus...    askastronomy  \n",
       "t3_1ae91uw  i need more help understanding this i dont kno...    askastronomy  \n",
       "t3_1ae8wx0  is it possible to see that on a birth chart? f...  askastrologers  "
      ]
     },
     "execution_count": 61,
     "metadata": {},
     "output_type": "execute_result"
    }
   ],
   "source": [
    "df_merged.tail()"
   ]
  },
  {
   "cell_type": "code",
   "execution_count": 62,
   "id": "583d0160-6721-48e8-9d4e-d3f18ef74644",
   "metadata": {},
   "outputs": [
    {
     "name": "stdout",
     "output_type": "stream",
     "text": [
      "<class 'pandas.core.frame.DataFrame'>\n",
      "Index: 2239 entries, t3_1acjmvr to t3_1ae8wx0\n",
      "Data columns (total 4 columns):\n",
      " #   Column       Non-Null Count  Dtype         \n",
      "---  ------       --------------  -----         \n",
      " 0   created_utc  2239 non-null   datetime64[ns]\n",
      " 1   title        2239 non-null   object        \n",
      " 2   selftext     1737 non-null   object        \n",
      " 3   subreddit    2239 non-null   object        \n",
      "dtypes: datetime64[ns](1), object(3)\n",
      "memory usage: 87.5+ KB\n"
     ]
    }
   ],
   "source": [
    "df_merged.info()"
   ]
  },
  {
   "cell_type": "markdown",
   "id": "08486824-9709-42b0-b7d0-a8ddda0709f8",
   "metadata": {
    "tags": []
   },
   "source": [
    "### Check for missing values"
   ]
  },
  {
   "cell_type": "code",
   "execution_count": 63,
   "id": "89bf9113",
   "metadata": {},
   "outputs": [
    {
     "name": "stdout",
     "output_type": "stream",
     "text": [
      "| `` |`$N$ missing` | \n",
      "| --- | ---  | \n",
      "| `created_utc` |0 |\n",
      "| `title` |0 |\n",
      "| `selftext` |502 |\n",
      "| `subreddit` |0 |\n"
     ]
    }
   ],
   "source": [
    "mdtbl_from_df(pd.DataFrame({r\"$N$ missing\":df_merged.isnull().sum()}))#'Column'})))#,columns=['Column',r'$N$'],=['Column']))"
   ]
  },
  {
   "cell_type": "markdown",
   "id": "2cbe72be",
   "metadata": {},
   "source": [
    "| Column | $N$ missing | \n",
    "| --- | ---  | \n",
    "| `created_utc` |0 |\n",
    "| `title` |0 |\n",
    "| `selftext` |502 |\n",
    "| `subreddit` |0 |"
   ]
  },
  {
   "cell_type": "markdown",
   "id": "380c5402-1b25-473c-aec2-856ecb3cbdb3",
   "metadata": {},
   "source": [
    "Lots of missing values in `selftext`. Will merge this column with `title` text below. \n",
    "\n",
    "Missing value treatment: only missing values in `selftext`. Will set them to an empty string and merge with `title` column for a combined text column called `post`."
   ]
  },
  {
   "cell_type": "markdown",
   "id": "240cf87a-d96e-4665-b032-c4f60f86b736",
   "metadata": {
    "tags": []
   },
   "source": [
    "### Check distribution of subreddits"
   ]
  },
  {
   "cell_type": "code",
   "execution_count": 64,
   "id": "f921db7a-5b33-4dd1-8406-c99ea1f76432",
   "metadata": {},
   "outputs": [
    {
     "data": {
      "text/plain": [
       "askastrologers    0.549352\n",
       "askastronomy      0.450648\n",
       "Name: subreddit, dtype: float64"
      ]
     },
     "execution_count": 64,
     "metadata": {},
     "output_type": "execute_result"
    }
   ],
   "source": [
    "df_merged['subreddit'].value_counts(normalize=True)"
   ]
  },
  {
   "cell_type": "code",
   "execution_count": 65,
   "id": "43ede287",
   "metadata": {},
   "outputs": [
    {
     "name": "stdout",
     "output_type": "stream",
     "text": [
      "askastrologers    1230\n",
      "askastronomy      1009\n",
      "Name: subreddit, dtype: int64\n",
      "askastrologers    0.549352\n",
      "askastronomy      0.450648\n",
      "Name: subreddit, dtype: float64\n"
     ]
    }
   ],
   "source": [
    "print(df_merged['subreddit'].value_counts())\n",
    "print(df_merged['subreddit'].value_counts(normalize=True))"
   ]
  },
  {
   "cell_type": "markdown",
   "id": "369f46c3-580f-4267-b4aa-edff90a845b0",
   "metadata": {},
   "source": [
    "\n",
    "|    `subreddit`            |   $N$ submissions |   Proportion | \n",
    "|:---------------|------------:|------------:|\n",
    "| `askastrologers` |        1230 |    0.549352 |\n",
    "| `askastronomy`   |        1009 |    0.450648 |"
   ]
  },
  {
   "cell_type": "markdown",
   "id": "78ea5da4",
   "metadata": {},
   "source": [
    "The data is pretty evenly distributed in terms of submissions with `askastrologers` as the majority class representing 55% of all submissions."
   ]
  },
  {
   "cell_type": "markdown",
   "id": "01df7950",
   "metadata": {},
   "source": [
    "Check datatypes"
   ]
  },
  {
   "cell_type": "code",
   "execution_count": 23,
   "id": "e0a6142f-10a7-40b1-8d52-e6932283fb63",
   "metadata": {},
   "outputs": [
    {
     "data": {
      "text/plain": [
       "created_utc    datetime64[ns]\n",
       "title                  object\n",
       "selftext               object\n",
       "subreddit              object\n",
       "dtype: object"
      ]
     },
     "execution_count": 23,
     "metadata": {},
     "output_type": "execute_result"
    }
   ],
   "source": [
    "df_merged.dtypes"
   ]
  },
  {
   "cell_type": "markdown",
   "id": "6738e8cc-30fc-4f4c-a853-13832201f51a",
   "metadata": {},
   "source": [
    "## 3. NLP and Cleaning data"
   ]
  },
  {
   "cell_type": "markdown",
   "id": "f9394ac5-b929-40ee-9018-0c5f3d9e22c9",
   "metadata": {},
   "source": [
    "### 3a. Define functions for NLP"
   ]
  },
  {
   "cell_type": "code",
   "execution_count": 66,
   "id": "6ecc3372-8f2c-4000-9db8-d13655a2dc34",
   "metadata": {},
   "outputs": [],
   "source": [
    "import re\n",
    "from nltk.corpus import stopwords # Import the stop word list\n",
    "from nltk.stem import WordNetLemmatizer\n",
    "\n",
    "\n",
    "\n",
    "# clean string containing raw text data to return only lowercase, meaningfull words\n",
    "def post_to_words(raw_text):\n",
    "\n",
    "    # Function to convert a raw review to a string of words\n",
    "    # The input is a single string (a raw movie review), and \n",
    "    # the output is a single string (a preprocessed movie review)\n",
    "\n",
    "\n",
    "    # 1. Remove HTML.\n",
    "    # text = BeautifulSoup(raw_text).get_text()\n",
    "    # print(text)\n",
    "    # 2. Remove apostrophes and suffixes/non-letters\n",
    "    # text = re.sub(r'[\\':\\b]\\w+','',raw_text)\n",
    "    letters_only = re.sub(r\"[^a-zA-Z]\", \" \", raw_text)\n",
    "    \n",
    "    \n",
    "    # print(letters_only)\n",
    "    # 3. Convert to lower case, split into individual words.\n",
    "    words = letters_only.lower().split()\n",
    "\n",
    "\n",
    "\n",
    "    # 4. In Python, searching a set is much faster than searching\n",
    "    # a list, so convert the stop words to a set.\n",
    "    stops = set(stopwords.words('english'))\n",
    "    \n",
    "    # 5. Remove stop words and lemmatize the words    \n",
    "    lemmatizer = WordNetLemmatizer()\n",
    "\n",
    "    meaningful_words = [lemmatizer.lemmatize(w) for w in words if w not in stops]# and (len(w)>1)]\n",
    "\n",
    "    # 6. Join the words back into one string separated by space, \n",
    "    # and return the result.\n",
    "    return (\" \".join(meaningful_words))\n",
    "\n",
    "# function to clean/process input dataframe: 1) create merged text data and 2) perform NLP and clean text data\n",
    "def clean_subreddit_df(df):\n",
    "    \n",
    "    # make copy of original dataframe\n",
    "    df_cln=df.copy()#merge_text_columns(df)\n",
    "\n",
    "    # 1) drop duplicates (just in case)\n",
    "    df_cln.drop_duplicates(inplace=True)\n",
    "\n",
    "    # 2) fill NaNs in selftext with empty string, add it to title column to make \"post\" column\n",
    "    df_cln['post']=df_cln['title']+' '+df_cln['selftext'].fillna('')\n",
    "\n",
    "    # 3) clean text column using post_to_words NLP function above\n",
    "    df_cln['post']=[post_to_words(str(p)) for p in df_cln['post']]\n",
    "\n",
    "    # return cleaned dataframe with the name as index, time, post (feature colummn), and subreddit (target column)\n",
    "    return df_cln[['created_utc','post','subreddit']]"
   ]
  },
  {
   "cell_type": "markdown",
   "id": "383f9441-72c7-4478-93d1-8ce341c5535d",
   "metadata": {},
   "source": [
    "### 3b-3d. NLP and cleaning of text data \n",
    "\n",
    "\n",
    "`clean_subreddit_df` defined above takes the raw `DataFrame` with columns: `created_utc`, `title`, `selftext`,`subreddit` \n",
    "\n",
    "returns `DataFrame` with column `post`: cleaned, combined `title` and `selftext` columns "
   ]
  },
  {
   "cell_type": "code",
   "execution_count": 67,
   "id": "358b281b-d031-4fc4-9be2-779d0333ae93",
   "metadata": {},
   "outputs": [],
   "source": [
    "df_clean = clean_subreddit_df(df_merged)"
   ]
  },
  {
   "cell_type": "code",
   "execution_count": 68,
   "id": "5b067a4f",
   "metadata": {},
   "outputs": [
    {
     "name": "stdout",
     "output_type": "stream",
     "text": [
      "<class 'pandas.core.frame.DataFrame'>\n",
      "Index: 2239 entries, t3_1acjmvr to t3_1ae8wx0\n",
      "Data columns (total 3 columns):\n",
      " #   Column       Non-Null Count  Dtype         \n",
      "---  ------       --------------  -----         \n",
      " 0   created_utc  2239 non-null   datetime64[ns]\n",
      " 1   post         2239 non-null   object        \n",
      " 2   subreddit    2239 non-null   object        \n",
      "dtypes: datetime64[ns](1), object(2)\n",
      "memory usage: 70.0+ KB\n"
     ]
    }
   ],
   "source": [
    "df_clean.info()"
   ]
  },
  {
   "cell_type": "markdown",
   "id": "25bf17ee",
   "metadata": {},
   "source": [
    "Let's look at some post text examples"
   ]
  },
  {
   "cell_type": "code",
   "execution_count": 69,
   "id": "79c97813",
   "metadata": {},
   "outputs": [
    {
     "name": "stdout",
     "output_type": "stream",
     "text": [
      "| `name` |`created_utc`  | `post`  | `subreddit` | \n",
      "| --- | --- | --- | ---  | \n",
      "| `t3_1acb51z` |2024-01-27 13:44:52 | master astronomy ece join college soon india right available option electrical engineering want make career astronomy astrophysics go master usa possible master astronomy electrical electronic engineering | askastronomy |\n",
      "| `t3_1ac65td` |2024-01-27 08:21:38 | plane stellar planetary system oriented parallel milky way generally tilted like | askastronomy |\n",
      "| `t3_1absdye` |2024-01-26 20:42:56 | brightness magnitude solar eclipse asking search magnitude eclipse return page much coverage moon sun approximate brightness solar eclipse purchased new lens prior experience photographing eclipse turned exposed like experiment moon phase would somewhat similar would see eclipse thanks guidance advance | askastronomy |\n",
      "| `t3_1abncxc` |2024-01-26 17:09:56 | derivative position defines freefall always thought never really made sense define acceleration due gravity set distance source gravity since acceleration change based distance freefall time derivative position exactly would someone solve say position travelled integral km earth straight freefall could iterated integration really used define something like like would normal function acceleration jerk familiar mathematics beyond multivariable calculus know aspect differential modeling | askastronomy |\n",
      "| `t3_1abcko8` |2024-01-26 07:11:24 | uranus truly impressive colour difference image extremely saturated plant different blue white coloured cloud | askastronomy |\n",
      "\n",
      "\n",
      "\n",
      "| `name` |`created_utc`  | `post`  | `subreddit` | \n",
      "| --- | --- | --- | ---  | \n",
      "| `t3_1acjmvr` |2024-01-27 20:06:07 | f feb terrible past relationship could reason new possibility getting long term relationship anytime soon thank please explain layman language new | askastrologers |\n",
      "| `t3_1acjm0x` |2024-01-27 20:05:05 | terrifying seemingly bang second opinion f virgo sun scorpio moon sag ascendence gone tumultuous ending relationship last year facing heat work six month spoke astrologer first time ever mostly needed reading around work growth health relationship reading seemed alignment high low life looked like far pointed something nothing come easy take lot failure reach goal accurate anyone gauged life eventually took three attempt fully open tell never seen tumultuous chart everything seems getting affected reason despite best effort chart apparently show lot struggle result late predicted success relationship miscarriage attempt child want kid definitely slow growth career tough work week passed honestly listening anyone want read offer word hopefully strangest chart seen | askastrologers |\n",
      "| `t3_1acjgy6` |2024-01-27 19:59:11 | pluto aquarius affect sorry frequent question aquarius placement kinda concerned interpretation extra information welcome well | askastrologers |\n",
      "| `t3_1acjd62` |2024-01-27 19:54:33 | time pleasure trip birthday yearly sun chart ruler transit | askastrologers |\n",
      "| `t3_1acjb0u` |2024-01-27 19:51:56 | advice compatibility love reading impression | askastrologers |\n"
     ]
    }
   ],
   "source": [
    "mdtbl_from_df(df_clean[['created_utc','post','subreddit']][df_clean['subreddit']=='askastronomy'].head())\n",
    "print('\\n\\n')\n",
    "mdtbl_from_df(df_clean[['created_utc','post','subreddit']][df_clean['subreddit']=='askastrologers'].head())"
   ]
  },
  {
   "cell_type": "markdown",
   "id": "a73dd9c3",
   "metadata": {},
   "source": [
    "| `name` |`created_utc`  | `post`  | `subreddit` | \n",
    "| --- | --- | --- | ---  | \n",
    "| `t3_1acb51z` |2024-01-27 13:44:52 | master astronomy ece join college soon india right available option electrical engineering want make career astronomy astrophysics go master usa possible master astronomy electrical electronic engineering | askastronomy |\n",
    "| `t3_1ac65td` |2024-01-27 08:21:38 | plane stellar planetary system oriented parallel milky way generally tilted like | askastronomy |\n",
    "| `t3_1absdye` |2024-01-26 20:42:56 | brightness magnitude solar eclipse asking search magnitude eclipse return page much coverage moon sun approximate brightness solar eclipse purchased new lens prior experience photographing eclipse turned exposed like experiment moon phase would somewhat similar would see eclipse thanks guidance advance | askastronomy |\n",
    "| `t3_1abncxc` |2024-01-26 17:09:56 | derivative position defines freefall always thought never really made sense define acceleration due gravity set distance source gravity since acceleration change based distance freefall time derivative position exactly would someone solve say position travelled integral km earth straight freefall could iterated integration really used define something like like would normal function acceleration jerk familiar mathematics beyond multivariable calculus know aspect differential modeling | askastronomy |\n",
    "| `t3_1abcko8` |2024-01-26 07:11:24 | uranus truly impressive colour difference image extremely saturated plant different blue white coloured cloud | askastronomy |\n",
    "\n"
   ]
  },
  {
   "cell_type": "markdown",
   "id": "3351a7eb",
   "metadata": {},
   "source": [
    "\n",
    "\n",
    "\n",
    "\n",
    "| `name` |`created_utc`  | `post`  | `subreddit` | \n",
    "| --- | --- | --- | ---  | \n",
    "| `t3_1acjmvr` |2024-01-27 20:06:07 | f feb terrible past relationship could reason new possibility getting long term relationship anytime soon thank please explain layman language new | askastrologers |\n",
    "| `t3_1acjm0x` |2024-01-27 20:05:05 | terrifying seemingly bang second opinion f virgo sun scorpio moon sag ascendence gone tumultuous ending relationship last year facing heat work six month spoke astrologer first time ever mostly needed reading around work growth health relationship reading seemed alignment high low life looked like far pointed something nothing come easy take lot failure reach goal accurate anyone gauged life eventually took three attempt fully open tell never seen tumultuous chart everything seems getting affected reason despite best effort chart apparently show lot struggle result late predicted success relationship miscarriage attempt child want kid definitely slow growth career tough work week passed honestly listening anyone want read offer word hopefully strangest chart seen | askastrologers |\n",
    "| `t3_1acjgy6` |2024-01-27 19:59:11 | pluto aquarius affect sorry frequent question aquarius placement kinda concerned interpretation extra information welcome well | askastrologers |\n",
    "| `t3_1acjd62` |2024-01-27 19:54:33 | time pleasure trip birthday yearly sun chart ruler transit | askastrologers |\n",
    "| `t3_1acjb0u` |2024-01-27 19:51:56 | advice compatibility love reading impression | askastrologers |"
   ]
  },
  {
   "cell_type": "markdown",
   "id": "e9153305-26af-4264-8be8-052f19c56209",
   "metadata": {},
   "source": [
    "## 4. EDA and Further Data Cleaning\n"
   ]
  },
  {
   "cell_type": "markdown",
   "id": "11e0dd0d",
   "metadata": {},
   "source": [
    "\n",
    " #### Vectorization with `CountVectorizer` and `TfidfVectorizer`"
   ]
  },
  {
   "cell_type": "markdown",
   "id": "f235f099",
   "metadata": {},
   "source": [
    "Define feature matrix `X` and target vector `y`"
   ]
  },
  {
   "cell_type": "code",
   "execution_count": 70,
   "id": "7da1c262-b7f7-4b45-8a33-c9e71751ede3",
   "metadata": {},
   "outputs": [],
   "source": [
    "X = df_clean['post']\n",
    "y = df_clean['subreddit']"
   ]
  },
  {
   "cell_type": "code",
   "execution_count": 71,
   "id": "0b6cd3bd-d357-42b0-bcd0-3d8e57fc16cb",
   "metadata": {},
   "outputs": [],
   "source": [
    "from sklearn.feature_extraction.text import CountVectorizer, TfidfVectorizer\n",
    "\n",
    "cvec = CountVectorizer(max_features=5000,stop_words='english',\\\n",
    "                       ngram_range=(1,1),min_df=2,token_pattern=r\"\\b[a-zA-Z]+\\b\")"
   ]
  },
  {
   "cell_type": "code",
   "execution_count": 72,
   "id": "9d3d3272",
   "metadata": {},
   "outputs": [],
   "source": [
    "#fit transform\n",
    "X_cvec = cvec.fit_transform(X)\n",
    "\n",
    "# make vectorized dataframe\n",
    "X_cvec = pd.DataFrame(X_cvec.toarray(),columns=cvec.get_feature_names_out(),index=X.index)\n"
   ]
  },
  {
   "cell_type": "markdown",
   "id": "2c125524",
   "metadata": {},
   "source": [
    "#### Visualize most common words in both classes"
   ]
  },
  {
   "cell_type": "code",
   "execution_count": 73,
   "id": "1fd280b1",
   "metadata": {},
   "outputs": [
    {
     "data": {
      "image/png": "[encoded data removed]",
      "text/plain": [
       "<Figure size 800x600 with 1 Axes>"
      ]
     },
     "metadata": {},
     "output_type": "display_data"
    }
   ],
   "source": [
    "f = plt.figure(figsize=(8,6))\n",
    "# X[y=='science'].sum().sort_values().tail(10).plot(kind='bar',color='red',figsize=(10,6))\n",
    "X_cvec.sum().sort_values().tail(20).plot(kind='barh',fig=f);\n",
    "\n",
    "plt.tick_params(axis='both',labelsize=14)\n",
    "plt.xlabel(\"Count\",fontsize=14)\n",
    "plt.ylabel(\"Feature\",fontsize=14)\n",
    "plt.title(\"Most Common Features: r/AskAstrologers+r/AskAstronomy\",fontsize=14)\n",
    "plt.savefig(\"../images/common_words_counts_both.png\",dpi=150,bbox_inches='tight')\n",
    "plt.show()"
   ]
  },
  {
   "cell_type": "code",
   "execution_count": 74,
   "id": "0cb882fc",
   "metadata": {},
   "outputs": [
    {
     "data": {
      "image/png": "[encoded data removed]",
      "text/plain": [
       "<Figure size 800x600 with 1 Axes>"
      ]
     },
     "metadata": {},
     "output_type": "display_data"
    }
   ],
   "source": [
    "f = plt.figure(figsize=(8,6))\n",
    "\n",
    "# X[y=='science'].sum().sort_values().tail(10).plot(kind='bar',color='red',figsize=(10,6))\n",
    "X_cvec[y=='askastrologers'].sum().sort_values().tail(20).plot(kind='barh',fig=f);\n",
    "\n",
    "plt.tick_params(axis='both',labelsize=14)\n",
    "plt.xlabel(\"Count\",fontsize=14)\n",
    "plt.ylabel(\"Feature\",fontsize=14)\n",
    "plt.title(\"Most Common Words: r/AskAstrologers\",fontsize=14)\n",
    "plt.savefig(\"../images/common_words_counts_astrol.png\",dpi=150,bbox_inches='tight')\n",
    "\n",
    "plt.show()"
   ]
  },
  {
   "cell_type": "code",
   "execution_count": 75,
   "id": "f822308f",
   "metadata": {},
   "outputs": [
    {
     "data": {
      "image/png": "[encoded data removed]",
      "text/plain": [
       "<Figure size 800x600 with 1 Axes>"
      ]
     },
     "metadata": {},
     "output_type": "display_data"
    }
   ],
   "source": [
    "f = plt.figure(figsize=(8,6))\n",
    "\n",
    "# X[y=='science'].sum().sort_values().tail(10).plot(kind='bar',color='red',figsize=(10,6))\n",
    "X_cvec[y=='askastronomy'].sum().sort_values().tail(20).plot(kind='barh',fig=f);\n",
    "\n",
    "plt.tick_params(axis='both',labelsize=14)\n",
    "plt.xlabel(\"Count\",fontsize=14)\n",
    "plt.ylabel(\"Feature\",fontsize=14)\n",
    "plt.title(\"Most Common Words: r/AskAstronomy\",fontsize=14)\n",
    "plt.savefig(\"../images/common_words_counts_astron.png\",dpi=150,bbox_inches='tight')\n",
    "\n",
    "plt.show()"
   ]
  },
  {
   "cell_type": "code",
   "execution_count": 76,
   "id": "7d948b25",
   "metadata": {},
   "outputs": [],
   "source": [
    "# vocab_cv= cvec.get_feature_names_out()\n",
    "# counts = pd.DataFrame(zip(vocab_cv, X_cvec[y=='askastrologers'].sum(), X_cvec[y=='askastronomy'].sum()),\n",
    "#                        columns=['vocabulary', 'count_astrol','count_astron'])#print([f\"{i}:{X_cvec.sum().sort_values(ascending=False).loc[i]}\" for i in X_cvec.sum().sort_values(ascending=False).index[:100]])"
   ]
  },
  {
   "cell_type": "code",
   "execution_count": 77,
   "id": "bb53df90",
   "metadata": {},
   "outputs": [],
   "source": [
    "# overlap = counts['count_astrol']/counts[['count_astrol','count_astron']].sum(axis=1)\n",
    "\n",
    "# overlap = (counts['count_astron']-counts['count_astrol']).abs()/counts[['count_astrol','count_astron']].sum(axis=1)"
   ]
  },
  {
   "cell_type": "code",
   "execution_count": 78,
   "id": "a9b3315b",
   "metadata": {},
   "outputs": [],
   "source": [
    "# counts['vocabulary'].iloc[np.where(overlap!=0)].iloc[np.argsort(1./overlap[overlap!=0])]"
   ]
  },
  {
   "cell_type": "markdown",
   "id": "64a4a7b1",
   "metadata": {},
   "source": [
    "#### `CountVectorizer` results:\n",
    "\n",
    "- We can define a list of custom stop words which warrant cleaning: \"like\", \"th\", \"http\", \"www\", \"com\", \"png\", \"jpg\", \"gif\", \"pdf\", \"b\" (and any one-letter word), \"astronomy\", \"astronomer\", \"astrology\", \"astrologer\"\n",
    "- Although there are some overlapping words (\"like\", \"moon\", \"sun\") some stark differences are observed: askastrology has words like \"feel\", \"life\", \"relationship\", \"love\" related to emotional issues and personal matters whereas askastronomy has words like \"star\", \"galaxy\", \"light\", \"energy\", and \"orbit\" related to astrophysical objects and understanding. \n"
   ]
  },
  {
   "cell_type": "code",
   "execution_count": null,
   "id": "91b5638f",
   "metadata": {},
   "outputs": [],
   "source": []
  },
  {
   "cell_type": "code",
   "execution_count": 79,
   "id": "0a7c7497-5d8a-4171-9bf3-d3f2e09079df",
   "metadata": {},
   "outputs": [],
   "source": [
    "char_count = [len(s.split()) for s in df_clean['post']]\n",
    "# char_count_selftext = [len(s.split()) if type(s)==str else 0 for s in df_clean['selftext']]\n",
    "\n",
    "word_count_df=pd.DataFrame({'subreddit':df_clean['subreddit'],\n",
    "                               'count':char_count},index=df_clean.index)\n",
    "                               # 'selftext_count':char_count_selftext},index=df.index)\n"
   ]
  },
  {
   "cell_type": "code",
   "execution_count": 89,
   "id": "bf62de48",
   "metadata": {},
   "outputs": [
    {
     "data": {
      "image/png": "[encoded data removed]",
      "text/plain": [
       "<Figure size 600x400 with 1 Axes>"
      ]
     },
     "metadata": {},
     "output_type": "display_data"
    }
   ],
   "source": [
    "f=plt.figure(figsize=(6,4))\n",
    "ax=plt.subplot()\n",
    "ax.set_title(\"Thread Word Count\",fontsize=14)\n",
    "word_count_df[word_count_df['subreddit']=='askastrologers']['count'].hist(bins=50,alpha=0.8,ax=ax,range=[0,400])\n",
    "word_count_df[word_count_df['subreddit']=='askastronomy']['count'].hist(bins=50,ax=ax,alpha=0.8,range=[0,400])\n",
    "ax.legend(['askastrologers','askastronomy'])\n",
    "plt.show()"
   ]
  },
  {
   "cell_type": "markdown",
   "id": "d9757f08-04b8-41f2-a276-bf08e145401a",
   "metadata": {},
   "source": [
    "Some interesting conclusions can be drawn from this:\n",
    "\n",
    "\n",
    "- `nebula`, `moon`, `star` are top 3 words in astronomy while `astrology`, `chart`, and `house` for astrology. The words `astronomy` and `astrology` should be excluded as stop words.\n",
    "\n",
    "- `s` and `t` as a single character show up in both top word lists and should be removed.\n",
    "\n",
    "\n",
    "__Define list of additional stop words:__"
   ]
  },
  {
   "cell_type": "markdown",
   "id": "de141ad2-7dc5-4b1e-afc6-9beea6c2e14d",
   "metadata": {},
   "source": [
    "## 5. `TfIDF` Vectorizer"
   ]
  },
  {
   "cell_type": "code",
   "execution_count": 90,
   "id": "9045aa66-fab7-436c-8ea2-0988a81507a5",
   "metadata": {},
   "outputs": [],
   "source": [
    "tf = TfidfVectorizer(max_features=5000,stop_words='english',\n",
    "                       ngram_range=(1,1),token_pattern=r\"\\b[a-zA-Z]+\\b\")\n",
    "\n",
    "X_tf = tf.fit_transform(X)\n",
    "X_tf = pd.DataFrame(X_tf.todense(), columns=tf.get_feature_names_out(), index=X.index)"
   ]
  },
  {
   "cell_type": "code",
   "execution_count": 91,
   "id": "54f67e7b-0920-42a1-b5c3-b1c648bdeb20",
   "metadata": {},
   "outputs": [],
   "source": [
    "vocab_tf= tf.get_feature_names_out()\n",
    "idf = pd.DataFrame(zip(vocab_tf, tf.idf_), columns=['vocabulary', 'IDF'])"
   ]
  },
  {
   "cell_type": "code",
   "execution_count": 92,
   "id": "85960379-34ad-4dea-bebc-bec899e7f3c9",
   "metadata": {},
   "outputs": [
    {
     "data": {
      "text/html": [
       "<div>\n",
       "<style scoped>\n",
       "    .dataframe tbody tr th:only-of-type {\n",
       "        vertical-align: middle;\n",
       "    }\n",
       "\n",
       "    .dataframe tbody tr th {\n",
       "        vertical-align: top;\n",
       "    }\n",
       "\n",
       "    .dataframe thead th {\n",
       "        text-align: right;\n",
       "    }\n",
       "</style>\n",
       "<table border=\"1\" class=\"dataframe\">\n",
       "  <thead>\n",
       "    <tr style=\"text-align: right;\">\n",
       "      <th></th>\n",
       "      <th>vocabulary</th>\n",
       "      <th>IDF</th>\n",
       "    </tr>\n",
       "  </thead>\n",
       "  <tbody>\n",
       "    <tr>\n",
       "      <th>2479</th>\n",
       "      <td>like</td>\n",
       "      <td>2.373872</td>\n",
       "    </tr>\n",
       "    <tr>\n",
       "      <th>664</th>\n",
       "      <td>chart</td>\n",
       "      <td>2.544620</td>\n",
       "    </tr>\n",
       "    <tr>\n",
       "      <th>2380</th>\n",
       "      <td>know</td>\n",
       "      <td>2.572194</td>\n",
       "    </tr>\n",
       "    <tr>\n",
       "      <th>4414</th>\n",
       "      <td>time</td>\n",
       "      <td>2.774060</td>\n",
       "    </tr>\n",
       "    <tr>\n",
       "      <th>4949</th>\n",
       "      <td>year</td>\n",
       "      <td>2.833698</td>\n",
       "    </tr>\n",
       "  </tbody>\n",
       "</table>\n",
       "</div>"
      ],
      "text/plain": [
       "     vocabulary       IDF\n",
       "2479       like  2.373872\n",
       "664       chart  2.544620\n",
       "2380       know  2.572194\n",
       "4414       time  2.774060\n",
       "4949       year  2.833698"
      ]
     },
     "execution_count": 92,
     "metadata": {},
     "output_type": "execute_result"
    }
   ],
   "source": [
    "idf.sort_values(by='IDF').head()"
   ]
  },
  {
   "cell_type": "code",
   "execution_count": 101,
   "id": "3cb88d3b",
   "metadata": {},
   "outputs": [
    {
     "name": "stderr",
     "output_type": "stream",
     "text": [
      "/var/folders/t0/z45sbs_x4qggjl5km6v2t42m0000gn/T/ipykernel_36177/4267334654.py:4: MatplotlibDeprecationWarning: savefig() got unexpected keyword argument \"figsize\" which is no longer supported as of 3.3 and will become an error in 3.6\n",
      "  plt.savefig('../images/idf_vocab_both.png',bbox_inches='tight',figsize=(6,6))\n"
     ]
    },
    {
     "data": {
      "image/png": "[encoded data removed]",
      "text/plain": [
       "<Figure size 640x480 with 1 Axes>"
      ]
     },
     "metadata": {},
     "output_type": "display_data"
    }
   ],
   "source": [
    "import seaborn as sns\n",
    "plt.figure()\n",
    "sns.barplot(y=idf.sort_values(by='IDF',ascending=True).head(30)['vocabulary'],x=idf.sort_values(by='IDF').head(30)['IDF'],orientation='horizontal')#y=idf['IDF'])\n",
    "plt.savefig('../images/idf_vocab_both.png',bbox_inches='tight',figsize=(6,6))\n",
    "plt.show()"
   ]
  },
  {
   "cell_type": "code",
   "execution_count": 100,
   "id": "3cc25342",
   "metadata": {},
   "outputs": [
    {
     "name": "stderr",
     "output_type": "stream",
     "text": [
      "/var/folders/t0/z45sbs_x4qggjl5km6v2t42m0000gn/T/ipykernel_36177/1594353201.py:5: MatplotlibDeprecationWarning: savefig() got unexpected keyword argument \"figsize\" which is no longer supported as of 3.3 and will become an error in 3.6\n",
      "  plt.savefig('../images/idf_vocab_least.png',bbox_inches='tight',figsize=(6,6))\n"
     ]
    },
    {
     "data": {
      "image/png": "[encoded data removed]",
      "text/plain": [
       "<Figure size 640x480 with 1 Axes>"
      ]
     },
     "metadata": {},
     "output_type": "display_data"
    }
   ],
   "source": [
    "import seaborn as sns\n",
    "plt.figure()\n",
    "sns.barplot(y=idf.sort_values(by='IDF',ascending=False).head(30)['vocabulary'],\n",
    "            x=idf.sort_values(by='IDF',ascending=False).head(30)['IDF'],orientation='horizontal')#y=idf['IDF'])\n",
    "plt.savefig('../images/idf_vocab_least.png',bbox_inches='tight',figsize=(6,6))\n",
    "plt.show()"
   ]
  },
  {
   "cell_type": "code",
   "execution_count": 85,
   "id": "c1ea29cb-2916-4628-89d6-363cbb8b6847",
   "metadata": {},
   "outputs": [
    {
     "data": {
      "text/html": [
       "<div>\n",
       "<style scoped>\n",
       "    .dataframe tbody tr th:only-of-type {\n",
       "        vertical-align: middle;\n",
       "    }\n",
       "\n",
       "    .dataframe tbody tr th {\n",
       "        vertical-align: top;\n",
       "    }\n",
       "\n",
       "    .dataframe thead th {\n",
       "        text-align: right;\n",
       "    }\n",
       "</style>\n",
       "<table border=\"1\" class=\"dataframe\">\n",
       "  <thead>\n",
       "    <tr style=\"text-align: right;\">\n",
       "      <th></th>\n",
       "      <th>vocabulary</th>\n",
       "      <th>IDF</th>\n",
       "    </tr>\n",
       "  </thead>\n",
       "  <tbody>\n",
       "    <tr>\n",
       "      <th>479</th>\n",
       "      <td>bode</td>\n",
       "      <td>8.021084</td>\n",
       "    </tr>\n",
       "    <tr>\n",
       "      <th>4255</th>\n",
       "      <td>tear</td>\n",
       "      <td>8.021084</td>\n",
       "    </tr>\n",
       "    <tr>\n",
       "      <th>4256</th>\n",
       "      <td>tearing</td>\n",
       "      <td>8.021084</td>\n",
       "    </tr>\n",
       "    <tr>\n",
       "      <th>494</th>\n",
       "      <td>bot</td>\n",
       "      <td>8.021084</td>\n",
       "    </tr>\n",
       "    <tr>\n",
       "      <th>4999</th>\n",
       "      <td>zxkcdxc</td>\n",
       "      <td>8.021084</td>\n",
       "    </tr>\n",
       "  </tbody>\n",
       "</table>\n",
       "</div>"
      ],
      "text/plain": [
       "     vocabulary       IDF\n",
       "479        bode  8.021084\n",
       "4255       tear  8.021084\n",
       "4256    tearing  8.021084\n",
       "494         bot  8.021084\n",
       "4999    zxkcdxc  8.021084"
      ]
     },
     "execution_count": 85,
     "metadata": {},
     "output_type": "execute_result"
    }
   ],
   "source": [
    "idf.sort_values(by='IDF').tail()"
   ]
  },
  {
   "cell_type": "code",
   "execution_count": 86,
   "id": "73560bf0-6d37-4e71-86f4-5e699969d5e0",
   "metadata": {},
   "outputs": [],
   "source": [
    "# define cleaning function\n",
    "def clean_post(post, exclude_list=[\"like\", \"th\", \"http\", \"www\", \"com\",\n",
    "                  \"png\", \"jpg\", \"gif\", \"pdf\", \"astronomy\", \"astronomer\", \"astrology\", \"astrologer\"]):\n",
    "    return \" \".join([w for w in post.split() if len(w)>1 and w not in exclude_list])\n"
   ]
  },
  {
   "cell_type": "code",
   "execution_count": 45,
   "id": "1cae17f1",
   "metadata": {},
   "outputs": [],
   "source": [
    "# clean post column by mapping with clean function above\n",
    "df_clean['post'] = df_clean['post'].map(clean_post)#, exclude_words)"
   ]
  },
  {
   "cell_type": "code",
   "execution_count": 46,
   "id": "a258cd64",
   "metadata": {},
   "outputs": [
    {
     "data": {
      "text/html": [
       "<div>\n",
       "<style scoped>\n",
       "    .dataframe tbody tr th:only-of-type {\n",
       "        vertical-align: middle;\n",
       "    }\n",
       "\n",
       "    .dataframe tbody tr th {\n",
       "        vertical-align: top;\n",
       "    }\n",
       "\n",
       "    .dataframe thead th {\n",
       "        text-align: right;\n",
       "    }\n",
       "</style>\n",
       "<table border=\"1\" class=\"dataframe\">\n",
       "  <thead>\n",
       "    <tr style=\"text-align: right;\">\n",
       "      <th></th>\n",
       "      <th>created_utc</th>\n",
       "      <th>post</th>\n",
       "      <th>subreddit</th>\n",
       "    </tr>\n",
       "    <tr>\n",
       "      <th>name</th>\n",
       "      <th></th>\n",
       "      <th></th>\n",
       "      <th></th>\n",
       "    </tr>\n",
       "  </thead>\n",
       "  <tbody>\n",
       "    <tr>\n",
       "      <th>t3_1acjmvr</th>\n",
       "      <td>2024-01-27 20:06:07</td>\n",
       "      <td>feb terrible past relationship could reason ne...</td>\n",
       "      <td>askastrologers</td>\n",
       "    </tr>\n",
       "    <tr>\n",
       "      <th>t3_1acjm0x</th>\n",
       "      <td>2024-01-27 20:05:05</td>\n",
       "      <td>terrifying seemingly bang second opinion virgo...</td>\n",
       "      <td>askastrologers</td>\n",
       "    </tr>\n",
       "    <tr>\n",
       "      <th>t3_1acjgy6</th>\n",
       "      <td>2024-01-27 19:59:11</td>\n",
       "      <td>pluto aquarius affect sorry frequent question ...</td>\n",
       "      <td>askastrologers</td>\n",
       "    </tr>\n",
       "    <tr>\n",
       "      <th>t3_1acjd62</th>\n",
       "      <td>2024-01-27 19:54:33</td>\n",
       "      <td>time pleasure trip birthday yearly sun chart r...</td>\n",
       "      <td>askastrologers</td>\n",
       "    </tr>\n",
       "    <tr>\n",
       "      <th>t3_1acjb0u</th>\n",
       "      <td>2024-01-27 19:51:56</td>\n",
       "      <td>advice compatibility love reading impression</td>\n",
       "      <td>askastrologers</td>\n",
       "    </tr>\n",
       "  </tbody>\n",
       "</table>\n",
       "</div>"
      ],
      "text/plain": [
       "                   created_utc  \\\n",
       "name                             \n",
       "t3_1acjmvr 2024-01-27 20:06:07   \n",
       "t3_1acjm0x 2024-01-27 20:05:05   \n",
       "t3_1acjgy6 2024-01-27 19:59:11   \n",
       "t3_1acjd62 2024-01-27 19:54:33   \n",
       "t3_1acjb0u 2024-01-27 19:51:56   \n",
       "\n",
       "                                                         post       subreddit  \n",
       "name                                                                           \n",
       "t3_1acjmvr  feb terrible past relationship could reason ne...  askastrologers  \n",
       "t3_1acjm0x  terrifying seemingly bang second opinion virgo...  askastrologers  \n",
       "t3_1acjgy6  pluto aquarius affect sorry frequent question ...  askastrologers  \n",
       "t3_1acjd62  time pleasure trip birthday yearly sun chart r...  askastrologers  \n",
       "t3_1acjb0u       advice compatibility love reading impression  askastrologers  "
      ]
     },
     "execution_count": 46,
     "metadata": {},
     "output_type": "execute_result"
    }
   ],
   "source": [
    "df_clean.head()"
   ]
  },
  {
   "cell_type": "code",
   "execution_count": 47,
   "id": "2587529c",
   "metadata": {},
   "outputs": [
    {
     "name": "stdout",
     "output_type": "stream",
     "text": [
      "| `name` |`created_utc`  | `post`  | `subreddit` | \n",
      "| --- | --- | --- | ---  | \n",
      "| `t3_1acb51z` |2024-01-27 13:44:52 | master ece join college soon india right available option electrical engineering want make career astrophysics go master usa possible master electrical electronic engineering | askastronomy |\n",
      "| `t3_1ac65td` |2024-01-27 08:21:38 | plane stellar planetary system oriented parallel milky way generally tilted | askastronomy |\n",
      "| `t3_1absdye` |2024-01-26 20:42:56 | brightness magnitude solar eclipse asking search magnitude eclipse return page much coverage moon sun approximate brightness solar eclipse purchased new lens prior experience photographing eclipse turned exposed experiment moon phase would somewhat similar would see eclipse thanks guidance advance | askastronomy |\n",
      "| `t3_1abncxc` |2024-01-26 17:09:56 | derivative position defines freefall always thought never really made sense define acceleration due gravity set distance source gravity since acceleration change based distance freefall time derivative position exactly would someone solve say position travelled integral km earth straight freefall could iterated integration really used define something would normal function acceleration jerk familiar mathematics beyond multivariable calculus know aspect differential modeling | askastronomy |\n",
      "| `t3_1abcko8` |2024-01-26 07:11:24 | uranus truly impressive colour difference image extremely saturated plant different blue white coloured cloud | askastronomy |\n",
      "\n",
      "\n",
      "\n",
      "| `name` |`created_utc`  | `post`  | `subreddit` | \n",
      "| --- | --- | --- | ---  | \n",
      "| `t3_1acjmvr` |2024-01-27 20:06:07 | feb terrible past relationship could reason new possibility getting long term relationship anytime soon thank please explain layman language new | askastrologers |\n",
      "| `t3_1acjm0x` |2024-01-27 20:05:05 | terrifying seemingly bang second opinion virgo sun scorpio moon sag ascendence gone tumultuous ending relationship last year facing heat work six month spoke first time ever mostly needed reading around work growth health relationship reading seemed alignment high low life looked far pointed something nothing come easy take lot failure reach goal accurate anyone gauged life eventually took three attempt fully open tell never seen tumultuous chart everything seems getting affected reason despite best effort chart apparently show lot struggle result late predicted success relationship miscarriage attempt child want kid definitely slow growth career tough work week passed honestly listening anyone want read offer word hopefully strangest chart seen | askastrologers |\n",
      "| `t3_1acjgy6` |2024-01-27 19:59:11 | pluto aquarius affect sorry frequent question aquarius placement kinda concerned interpretation extra information welcome well | askastrologers |\n",
      "| `t3_1acjd62` |2024-01-27 19:54:33 | time pleasure trip birthday yearly sun chart ruler transit | askastrologers |\n",
      "| `t3_1acjb0u` |2024-01-27 19:51:56 | advice compatibility love reading impression | askastrologers |\n"
     ]
    }
   ],
   "source": [
    "mdtbl_from_df(df_clean[['created_utc','post','subreddit']][df_clean['subreddit']=='askastronomy'].head())\n",
    "print('\\n\\n')\n",
    "mdtbl_from_df(df_clean[['created_utc','post','subreddit']][df_clean['subreddit']=='askastrologers'].head())"
   ]
  },
  {
   "cell_type": "code",
   "execution_count": 95,
   "id": "f70df55e",
   "metadata": {},
   "outputs": [
    {
     "name": "stdout",
     "output_type": "stream",
     "text": [
      "|             | 0              |\n",
      "|:------------|:---------------|\n",
      "| created_utc | datetime64[ns] |\n",
      "| post        | object         |\n",
      "| subreddit   | object         |\n"
     ]
    }
   ],
   "source": [
    "print(pd.DataFrame(df_clean.dtypes).to_markdown())"
   ]
  },
  {
   "cell_type": "markdown",
   "id": "d7cb3be6-14c9-477c-9829-9fe0cd905d6b",
   "metadata": {},
   "source": [
    "## 6. Data Dictionary and save cleaned `DataFrame`"
   ]
  },
  {
   "cell_type": "markdown",
   "id": "6fdc1c3f",
   "metadata": {},
   "source": [
    "File: [`data_cleaned_askastrologers_askastronomy.csv`](../data/data_cleaned_askastrologers_askastronomy.csv)\n",
    "\n",
    "\n",
    "  Column     |  Dtype  | Description       \n",
    "|:------------|:---------------|----|\n",
    "| `created_utc` | `datetime64[ns]` | UTC in YYYY-MM-DD HH:MM:SS format.\n",
    "| `post`        | `object`         | Column representing combined `title` and `selftext` from subreddit posts. \n",
    "| `subreddit`   | `object`         | Subreddit label (`askastrologers` or `askastronomy`)."
   ]
  },
  {
   "cell_type": "code",
   "execution_count": 96,
   "id": "7698e074-1259-438e-998a-615fbed29370",
   "metadata": {},
   "outputs": [],
   "source": [
    "df_clean.to_csv(\"../data/data_cleaned_askastrologers_askastronomy.csv\",index=True)"
   ]
  },
  {
   "cell_type": "code",
   "execution_count": null,
   "id": "41c0ad92-5067-4c5e-8cf7-1de3ee537493",
   "metadata": {},
   "outputs": [],
   "source": []
  },
  {
   "cell_type": "code",
   "execution_count": null,
   "id": "1767c0d8-f226-45ce-aa7e-1c84060271a7",
   "metadata": {},
   "outputs": [],
   "source": []
  }
 ],
 "metadata": {
  "kernelspec": {
   "display_name": "Python 3 (ipykernel)",
   "language": "python",
   "name": "python3"
  },
  "language_info": {
   "codemirror_mode": {
    "name": "ipython",
    "version": 3
   },
   "file_extension": ".py",
   "mimetype": "text/x-python",
   "name": "python",
   "nbconvert_exporter": "python",
   "pygments_lexer": "ipython3",
   "version": "3.9.13"
  }
 },
 "nbformat": 4,
 "nbformat_minor": 5
}
