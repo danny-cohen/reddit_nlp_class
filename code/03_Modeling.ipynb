{
 "cells": [
  {
   "cell_type": "markdown",
   "id": "638a8206-2102-4037-b9d3-6b2820f4310c",
   "metadata": {},
   "source": [
    "# Modeling and Model Evaluation\n",
    "\n",
    "\n",
    "1. Read cleaned data and define feature matrix `X` and target `y`\n",
    "2. Baseline accuracy \n",
    "3. Train and evaluate simple benchmark model\n",
    "4. Define pipelines to test in `GridsearchCV`\n",
    "\n",
    "    4a. Vectorization to test: `CountVectorizer` and `TfidfVectorizer` with parameter grid\n",
    "    \n",
    "    4b. Models to test: `LogisticRegression`, `SVC`, \n",
    "    \n",
    "\n",
    "5. Run `GridSearchCV` on all pipelines and calculate metrics\n",
    "6. Define best models and save using pickle\n",
    "7. Compute metrics"
   ]
  },
  {
   "cell_type": "code",
   "execution_count": null,
   "id": "c0a55452-d270-4d45-b63e-2f5653914b87",
   "metadata": {},
   "outputs": [],
   "source": []
  },
  {
   "cell_type": "code",
   "execution_count": 219,
   "id": "b7bf1914-961b-44ff-8ca6-223fbb883fbc",
   "metadata": {},
   "outputs": [],
   "source": [
    "import pandas as pd\n",
    "import numpy as np\n",
    "import seaborn as sns\n",
    "import matplotlib.pyplot as plt\n"
   ]
  },
  {
   "cell_type": "markdown",
   "id": "450a6634-6932-412f-8439-59a88ddf5bcc",
   "metadata": {},
   "source": [
    "## 1. Read data and define feature matrix and target vector"
   ]
  },
  {
   "cell_type": "code",
   "execution_count": 220,
   "id": "b0463c0b-ea32-44dd-a838-539a0299590d",
   "metadata": {},
   "outputs": [],
   "source": [
    "df = pd.read_csv(\"../data/data_cleaned_askastrologers_askastronomy.csv\")"
   ]
  },
  {
   "cell_type": "markdown",
   "id": "514d544f-433e-4894-badd-9c634a74ea6f",
   "metadata": {},
   "source": [
    "## 2. Baseline accuracy"
   ]
  },
  {
   "cell_type": "code",
   "execution_count": 221,
   "id": "f921db7a-5b33-4dd1-8406-c99ea1f76432",
   "metadata": {},
   "outputs": [
    {
     "data": {
      "text/plain": [
       "askastrologers    0.549352\n",
       "askastronomy      0.450648\n",
       "Name: subreddit, dtype: float64"
      ]
     },
     "execution_count": 221,
     "metadata": {},
     "output_type": "execute_result"
    }
   ],
   "source": [
    "df['subreddit'].value_counts(normalize=True)"
   ]
  },
  {
   "cell_type": "markdown",
   "id": "a12551ec-e68a-4342-9598-74c3e085afd6",
   "metadata": {},
   "source": [
    "__Baseline accuracy__: 0.54"
   ]
  },
  {
   "cell_type": "markdown",
   "id": "573595e9",
   "metadata": {},
   "source": [
    "### Convert `subreddit` column to `int` (`askastrologers`=1, `askastronomy`=0)"
   ]
  },
  {
   "cell_type": "code",
   "execution_count": 222,
   "id": "2c06bc22",
   "metadata": {},
   "outputs": [],
   "source": [
    "df['subreddit']=df['subreddit'].map({'askastrologers':1,'askastronomy':0})"
   ]
  },
  {
   "cell_type": "code",
   "execution_count": 223,
   "id": "1adf981d",
   "metadata": {},
   "outputs": [
    {
     "data": {
      "text/plain": [
       "name           object\n",
       "created_utc    object\n",
       "post           object\n",
       "subreddit       int64\n",
       "dtype: object"
      ]
     },
     "execution_count": 223,
     "metadata": {},
     "output_type": "execute_result"
    }
   ],
   "source": [
    "df.dtypes"
   ]
  },
  {
   "cell_type": "markdown",
   "id": "7ca2eca1",
   "metadata": {},
   "source": []
  },
  {
   "cell_type": "markdown",
   "id": "b28dec22-bf72-41ee-88de-da95334a87e1",
   "metadata": {},
   "source": [
    "## Define feature/target dataframes "
   ]
  },
  {
   "cell_type": "code",
   "execution_count": 329,
   "id": "a464b748-4f46-42f2-b0e2-222d17641416",
   "metadata": {},
   "outputs": [],
   "source": [
    "X = df['post']\n",
    "y = df['subreddit']"
   ]
  },
  {
   "cell_type": "code",
   "execution_count": 357,
   "id": "c9a32f5c-7458-45ab-a699-694c290c50aa",
   "metadata": {},
   "outputs": [],
   "source": [
    "from sklearn.linear_model import LogisticRegression\n",
    "from sklearn.model_selection import train_test_split, GridSearchCV\n",
    "from sklearn.pipeline import Pipeline\n",
    "from sklearn.feature_extraction.text import CountVectorizer, TfidfVectorizer\n",
    "\n",
    "# y = df['subreddit']\n",
    "X_train,X_test,y_train,y_test = train_test_split(X, y, test_size=0.2, stratify=y, random_state=42)"
   ]
  },
  {
   "cell_type": "code",
   "execution_count": 358,
   "id": "0a016288-8259-4a8b-9f85-e0ca40c470b9",
   "metadata": {},
   "outputs": [],
   "source": [
    "pipe_cvec_logr = Pipeline([\n",
    "    ('cvec',CountVectorizer(stop_words='english',ngram_range=(1,1),token_pattern=r\"\\b[a-zA-Z]+\\b\")),\n",
    "    ('logr',LogisticRegression())\n",
    "])"
   ]
  },
  {
   "cell_type": "code",
   "execution_count": 359,
   "id": "84bfa0b8-804f-41dc-9391-16729665a02c",
   "metadata": {},
   "outputs": [],
   "source": [
    "pipe_cvec_logr_params = {\n",
    "    'cvec__max_features':[1000,2500,5000],\n",
    "    # 'cvec__ngram_range':[(1,1)],\n",
    "    'cvec__min_df':[0.01,0.02,0.05],\n",
    "    'cvec__max_df':[0.95,0.99],\n",
    "    'logr__C':[0.01,0.1,1.0,5.0],\n",
    "    'logr__solver':['liblinear'],\n",
    "    'logr__penalty':['l1','l2']\n",
    "}"
   ]
  },
  {
   "cell_type": "code",
   "execution_count": 362,
   "id": "6aae3069-51ce-4b84-8c8e-07a4a2bbeff4",
   "metadata": {},
   "outputs": [],
   "source": [
    "gs_logreg = GridSearchCV(pipe_cvec_logr, pipe_cvec_logr_params,cv=5,n_jobs=-1,verbose=1)"
   ]
  },
  {
   "cell_type": "code",
   "execution_count": 363,
   "id": "1767c0d8-f226-45ce-aa7e-1c84060271a7",
   "metadata": {},
   "outputs": [
    {
     "name": "stdout",
     "output_type": "stream",
     "text": [
      "Fitting 5 folds for each of 108 candidates, totalling 540 fits\n"
     ]
    },
    {
     "data": {
      "text/plain": [
       "GridSearchCV(cv=5,\n",
       "             estimator=Pipeline(steps=[('cvec',\n",
       "                                        CountVectorizer(stop_words='english',\n",
       "                                                        token_pattern='\\\\b[a-zA-Z]+\\\\b')),\n",
       "                                       ('logr', LogisticRegression())]),\n",
       "             n_jobs=-1,\n",
       "             param_grid={'cvec__max_df': [0.95, 0.99],\n",
       "                         'cvec__max_features': [1000, 2500, 5000],\n",
       "                         'cvec__min_df': [0.01, 0.02, 0.05],\n",
       "                         'logr__C': [0.01, 0.1, 1.0],\n",
       "                         'logr__penalty': ['l1', 'l2'],\n",
       "                         'logr__solver': ['liblinear']},\n",
       "             verbose=1)"
      ]
     },
     "execution_count": 363,
     "metadata": {},
     "output_type": "execute_result"
    }
   ],
   "source": [
    "gs_logreg.fit(X_train, y_train)"
   ]
  },
  {
   "cell_type": "code",
   "execution_count": 368,
   "id": "ffbb025c",
   "metadata": {},
   "outputs": [
    {
     "data": {
      "text/plain": [
       "0.9581285694278023"
      ]
     },
     "execution_count": 368,
     "metadata": {},
     "output_type": "execute_result"
    }
   ],
   "source": [
    "gs_logreg.best_score_"
   ]
  },
  {
   "cell_type": "code",
   "execution_count": 369,
   "id": "71d4e816-5bc9-4385-8b2c-1d5107d8466e",
   "metadata": {},
   "outputs": [],
   "source": [
    "logreg_best = gs_logreg.best_estimator_"
   ]
  },
  {
   "cell_type": "code",
   "execution_count": 370,
   "id": "3b4e0341",
   "metadata": {},
   "outputs": [
    {
     "data": {
      "text/plain": [
       "(0.9620535714285714, 0.9927414852037968)"
      ]
     },
     "execution_count": 370,
     "metadata": {},
     "output_type": "execute_result"
    }
   ],
   "source": [
    "logreg_best.score(X_test, y_test), logreg_best.score(X_train,y_train)"
   ]
  },
  {
   "cell_type": "code",
   "execution_count": 371,
   "id": "8a74b4ad",
   "metadata": {},
   "outputs": [
    {
     "data": {
      "text/plain": [
       "Pipeline(steps=[('cvec',\n",
       "                 CountVectorizer(max_df=0.95, max_features=1000, min_df=0.01,\n",
       "                                 stop_words='english',\n",
       "                                 token_pattern='\\\\b[a-zA-Z]+\\\\b')),\n",
       "                ('logr', LogisticRegression(solver='liblinear'))])"
      ]
     },
     "execution_count": 371,
     "metadata": {},
     "output_type": "execute_result"
    }
   ],
   "source": [
    "logreg_best"
   ]
  },
  {
   "cell_type": "markdown",
   "id": "246ebd57",
   "metadata": {},
   "source": [
    "### Evaluation:\n",
    "\n",
    "`LogisticRegression` with `CountVectorizer` is overfit 99.9% train accuracy and 96% test accuracy. Try reducing `max_features` and `TfidfVectorizer`"
   ]
  },
  {
   "cell_type": "markdown",
   "id": "cbd67505",
   "metadata": {},
   "source": [
    "Save model as pickle file:"
   ]
  },
  {
   "cell_type": "code",
   "execution_count": 372,
   "id": "8ab51f66",
   "metadata": {},
   "outputs": [],
   "source": [
    "import pickle as pkl \n",
    "with open('models/logreg_cvec.pkl', 'wb') as f:\n",
    "    pkl.dump(logreg_best,f)\n"
   ]
  },
  {
   "cell_type": "code",
   "execution_count": 373,
   "id": "c60c4c6b",
   "metadata": {},
   "outputs": [],
   "source": [
    "with open('models/logreg_cvec.pkl','rb') as f:\n",
    "    logreg_best = pkl.load(f)"
   ]
  },
  {
   "cell_type": "code",
   "execution_count": 374,
   "id": "2178fbb7",
   "metadata": {},
   "outputs": [
    {
     "name": "stdout",
     "output_type": "stream",
     "text": [
      "[('cvec', CountVectorizer(max_df=0.95, max_features=1000, min_df=0.01,\n",
      "                stop_words='english', token_pattern='\\\\b[a-zA-Z]+\\\\b')), ('logr', LogisticRegression(solver='liblinear'))]\n"
     ]
    }
   ],
   "source": [
    "print(logreg_best.steps)"
   ]
  },
  {
   "cell_type": "markdown",
   "id": "be90ccc4",
   "metadata": {},
   "source": [
    "### 3. Metrics Define function to compute metrics and format as a metrics `DataFrame`\n"
   ]
  },
  {
   "cell_type": "code",
   "execution_count": 375,
   "id": "ccd9e178",
   "metadata": {},
   "outputs": [],
   "source": [
    "from sklearn.metrics import f1_score, confusion_matrix, balanced_accuracy_score, recall_score, precision_score, roc_auc_score #cross_val_score\n",
    "def metrics_df(est, X_val, y_val, X_ts=None, y_ts=None):\n",
    "\n",
    "    train_test_both=True if ((X_ts is not None) and (y_ts is not None)) else False\n",
    "\n",
    "\n",
    "    X_lst = [X_val, X_ts] if train_test_both else [X_val]\n",
    "    y_lst = [y_val, y_ts] if train_test_both else [y_val]\n",
    "    metrics_dict=[]\n",
    "    for X_set,y_set in zip(X_lst,y_lst):\n",
    "        \n",
    "        tn, fp, fn, tp = confusion_matrix(y_set, est.predict(X_set)).ravel()\n",
    "        y_pred = est.predict_proba(X_set)\n",
    "        # y_pred = np.transpose([pred[] for pred in y_pred])\n",
    "        metrics_dict.append({\n",
    "\n",
    "        'accuracy': est.score(X_set,y_set),\n",
    "        'balanced accuracy':balanced_accuracy_score(y_set, est.predict(X_set)),\n",
    "\n",
    "        'sensitivity':tp/(tp+fn),\n",
    "        'specificity':tn/(tn+fp),\n",
    "        'F1':f1_score(y_set,est.predict(X_set),pos_label=est.classes_[0]),\n",
    "        'ROC AUC':roc_auc_score(y_set,y_pred[:,-1],average=None)\n",
    "                            \n",
    "            } )\n",
    "\n",
    "    return pd.DataFrame(metrics_dict,index=[['train','test'][i] for i in range(len(X_lst))])\n"
   ]
  },
  {
   "cell_type": "code",
   "execution_count": 376,
   "id": "20f0962a",
   "metadata": {},
   "outputs": [
    {
     "data": {
      "text/html": [
       "<div>\n",
       "<style scoped>\n",
       "    .dataframe tbody tr th:only-of-type {\n",
       "        vertical-align: middle;\n",
       "    }\n",
       "\n",
       "    .dataframe tbody tr th {\n",
       "        vertical-align: top;\n",
       "    }\n",
       "\n",
       "    .dataframe thead th {\n",
       "        text-align: right;\n",
       "    }\n",
       "</style>\n",
       "<table border=\"1\" class=\"dataframe\">\n",
       "  <thead>\n",
       "    <tr style=\"text-align: right;\">\n",
       "      <th></th>\n",
       "      <th>accuracy</th>\n",
       "      <th>balanced accuracy</th>\n",
       "      <th>sensitivity</th>\n",
       "      <th>specificity</th>\n",
       "      <th>F1</th>\n",
       "      <th>ROC AUC</th>\n",
       "    </tr>\n",
       "  </thead>\n",
       "  <tbody>\n",
       "    <tr>\n",
       "      <th>train</th>\n",
       "      <td>0.992741</td>\n",
       "      <td>0.992837</td>\n",
       "      <td>0.991870</td>\n",
       "      <td>0.993804</td>\n",
       "      <td>0.991960</td>\n",
       "      <td>0.999820</td>\n",
       "    </tr>\n",
       "    <tr>\n",
       "      <th>test</th>\n",
       "      <td>0.962054</td>\n",
       "      <td>0.962791</td>\n",
       "      <td>0.955285</td>\n",
       "      <td>0.970297</td>\n",
       "      <td>0.958435</td>\n",
       "      <td>0.991115</td>\n",
       "    </tr>\n",
       "  </tbody>\n",
       "</table>\n",
       "</div>"
      ],
      "text/plain": [
       "       accuracy  balanced accuracy  sensitivity  specificity        F1  \\\n",
       "train  0.992741           0.992837     0.991870     0.993804  0.991960   \n",
       "test   0.962054           0.962791     0.955285     0.970297  0.958435   \n",
       "\n",
       "        ROC AUC  \n",
       "train  0.999820  \n",
       "test   0.991115  "
      ]
     },
     "execution_count": 376,
     "metadata": {},
     "output_type": "execute_result"
    }
   ],
   "source": [
    "metrics_df(logreg_best,X_train,y_train,X_test,y_test)"
   ]
  },
  {
   "cell_type": "code",
   "execution_count": 377,
   "id": "163ba3a5",
   "metadata": {},
   "outputs": [
    {
     "name": "stdout",
     "output_type": "stream",
     "text": [
      "|       |   accuracy |   balanced accuracy |   sensitivity |   specificity |       F1 |   ROC AUC |\n",
      "|:------|-----------:|--------------------:|--------------:|--------------:|---------:|----------:|\n",
      "| train |   0.992741 |            0.992837 |      0.99187  |      0.993804 | 0.99196  |  0.99982  |\n",
      "| test  |   0.962054 |            0.962791 |      0.955285 |      0.970297 | 0.958435 |  0.991115 |\n"
     ]
    }
   ],
   "source": [
    "print(metrics_df(logreg_best,X_train,y_train,X_test,y_test).to_markdown())"
   ]
  },
  {
   "cell_type": "code",
   "execution_count": 378,
   "id": "bb55ac18",
   "metadata": {},
   "outputs": [
    {
     "data": {
      "text/plain": [
       "<Figure size 640x480 with 0 Axes>"
      ]
     },
     "metadata": {},
     "output_type": "display_data"
    },
    {
     "data": {
      "image/png": "[encoded data removed]",
      "text/plain": [
       "<Figure size 640x480 with 2 Axes>"
      ]
     },
     "metadata": {},
     "output_type": "display_data"
    }
   ],
   "source": [
    "from sklearn.metrics import ConfusionMatrixDisplay\n",
    "plt.figure()\n",
    "ConfusionMatrixDisplay(confusion_matrix(y_test,logreg_best.predict(X_test))).plot()\n",
    "plt.title(\"LogisticRegression with CountVectorization\",fontsize=14)\n",
    "plt.savefig(\"../images/logreg_cvec_best_confusion_mat.png\",dpi=150,bbox_inches='tight')\n",
    "plt.show()"
   ]
  },
  {
   "cell_type": "markdown",
   "id": "f08b7533",
   "metadata": {},
   "source": []
  },
  {
   "cell_type": "markdown",
   "id": "344586ce",
   "metadata": {},
   "source": [
    "### SVM model"
   ]
  },
  {
   "cell_type": "code",
   "execution_count": 379,
   "id": "d927abca",
   "metadata": {},
   "outputs": [],
   "source": [
    "from sklearn.svm import SVC,LinearSVC\n",
    "\n",
    "pipe_cvec_svm  = Pipeline([\n",
    "    ('cvec',CountVectorizer(stop_words='english',ngram_range=(1,1),token_pattern=r\"\\b[a-zA-Z]+\\b\")),\n",
    "    ('svc',SVC(probability=True))\n",
    "])"
   ]
  },
  {
   "cell_type": "code",
   "execution_count": 380,
   "id": "b6ccdb72",
   "metadata": {},
   "outputs": [],
   "source": [
    "pipe_cvec_svm_params = {\n",
    "    'cvec__max_features':[1000,2500,5000],\n",
    "    'cvec__ngram_range':[(1,1)],\n",
    "    'cvec__min_df':[0.01,0.02,0.05],\n",
    "    'cvec__max_df':[0.95,99],\n",
    "    'svc__C':[0.01,0.1,1.0],\n",
    "    'svc__kernel':['rbf','linear','poly']\n",
    "}\n"
   ]
  },
  {
   "cell_type": "code",
   "execution_count": 383,
   "id": "1d833b00",
   "metadata": {},
   "outputs": [],
   "source": [
    "gs_svm = GridSearchCV(pipe_cvec_svm, pipe_cvec_svm_params,cv=5, n_jobs=-1, verbose=1)"
   ]
  },
  {
   "cell_type": "code",
   "execution_count": 384,
   "id": "ac09609b",
   "metadata": {},
   "outputs": [
    {
     "name": "stdout",
     "output_type": "stream",
     "text": [
      "Fitting 5 folds for each of 162 candidates, totalling 810 fits\n"
     ]
    },
    {
     "data": {
      "text/plain": [
       "GridSearchCV(cv=5,\n",
       "             estimator=Pipeline(steps=[('cvec',\n",
       "                                        CountVectorizer(stop_words='english',\n",
       "                                                        token_pattern='\\\\b[a-zA-Z]+\\\\b')),\n",
       "                                       ('svc', SVC(probability=True))]),\n",
       "             n_jobs=-1,\n",
       "             param_grid={'cvec__max_df': [0.95, 99],\n",
       "                         'cvec__max_features': [1000, 2500, 5000],\n",
       "                         'cvec__min_df': [0.01, 0.02, 0.05],\n",
       "                         'cvec__ngram_range': [(1, 1)],\n",
       "                         'svc__C': [0.01, 0.1, 1.0],\n",
       "                         'svc__kernel': ['rbf', 'linear', 'poly']},\n",
       "             verbose=1)"
      ]
     },
     "execution_count": 384,
     "metadata": {},
     "output_type": "execute_result"
    }
   ],
   "source": [
    "gs_svm.fit(X_train,y_train)"
   ]
  },
  {
   "cell_type": "code",
   "execution_count": 385,
   "id": "d628848f",
   "metadata": {},
   "outputs": [
    {
     "data": {
      "text/plain": [
       "(Pipeline(steps=[('cvec',\n",
       "                  CountVectorizer(max_df=0.95, max_features=1000, min_df=0.01,\n",
       "                                  stop_words='english',\n",
       "                                  token_pattern='\\\\b[a-zA-Z]+\\\\b')),\n",
       "                 ('svc', SVC(C=0.1, kernel='linear', probability=True))]),\n",
       " 0.9531006364669083)"
      ]
     },
     "execution_count": 385,
     "metadata": {},
     "output_type": "execute_result"
    }
   ],
   "source": [
    "gs_svm.best_estimator_, gs_svm.best_score_"
   ]
  },
  {
   "cell_type": "code",
   "execution_count": 386,
   "id": "dde02901",
   "metadata": {},
   "outputs": [],
   "source": [
    "svm_best = gs_svm.best_estimator_"
   ]
  },
  {
   "cell_type": "code",
   "execution_count": 387,
   "id": "38b580b9",
   "metadata": {},
   "outputs": [],
   "source": [
    "import pickle as pkl \n",
    "with open('models/svm_cvec_best.pkl', 'wb') as f:\n",
    "    pkl.dump(svm_best,f)\n"
   ]
  },
  {
   "cell_type": "code",
   "execution_count": 393,
   "id": "c5fa76de",
   "metadata": {},
   "outputs": [],
   "source": [
    "import pickle as pkl \n",
    "with open('models/svm_cvec_best.pkl','rb') as f:\n",
    "    svm_best = pkl.load(f) \n"
   ]
  },
  {
   "cell_type": "code",
   "execution_count": 395,
   "id": "3c4cd5ab",
   "metadata": {},
   "outputs": [
    {
     "data": {
      "text/plain": [
       "Pipeline(steps=[('cvec',\n",
       "                 CountVectorizer(max_df=0.95, max_features=1000, min_df=0.01,\n",
       "                                 stop_words='english',\n",
       "                                 token_pattern='\\\\b[a-zA-Z]+\\\\b')),\n",
       "                ('svc', SVC(C=0.1, kernel='linear', probability=True))])"
      ]
     },
     "execution_count": 395,
     "metadata": {},
     "output_type": "execute_result"
    }
   ],
   "source": [
    "svm_best"
   ]
  },
  {
   "cell_type": "markdown",
   "id": "abfa79df",
   "metadata": {},
   "source": []
  },
  {
   "cell_type": "code",
   "execution_count": 396,
   "id": "9f7b7d03",
   "metadata": {},
   "outputs": [
    {
     "data": {
      "text/plain": [
       "{'memory': None,\n",
       " 'steps': [('cvec',\n",
       "   CountVectorizer(max_df=0.95, max_features=1000, min_df=0.01,\n",
       "                   stop_words='english', token_pattern='\\\\b[a-zA-Z]+\\\\b')),\n",
       "  ('svc', SVC(C=0.1, kernel='linear', probability=True))],\n",
       " 'verbose': False}"
      ]
     },
     "execution_count": 396,
     "metadata": {},
     "output_type": "execute_result"
    }
   ],
   "source": [
    "svm_best.get_params(deep=False)"
   ]
  },
  {
   "cell_type": "code",
   "execution_count": 400,
   "id": "a3bb21ce",
   "metadata": {},
   "outputs": [
    {
     "data": {
      "text/html": [
       "<div>\n",
       "<style scoped>\n",
       "    .dataframe tbody tr th:only-of-type {\n",
       "        vertical-align: middle;\n",
       "    }\n",
       "\n",
       "    .dataframe tbody tr th {\n",
       "        vertical-align: top;\n",
       "    }\n",
       "\n",
       "    .dataframe thead th {\n",
       "        text-align: right;\n",
       "    }\n",
       "</style>\n",
       "<table border=\"1\" class=\"dataframe\">\n",
       "  <thead>\n",
       "    <tr style=\"text-align: right;\">\n",
       "      <th></th>\n",
       "      <th>accuracy</th>\n",
       "      <th>balanced accuracy</th>\n",
       "      <th>sensitivity</th>\n",
       "      <th>specificity</th>\n",
       "      <th>F1</th>\n",
       "      <th>ROC AUC</th>\n",
       "    </tr>\n",
       "  </thead>\n",
       "  <tbody>\n",
       "    <tr>\n",
       "      <th>train</th>\n",
       "      <td>0.982133</td>\n",
       "      <td>0.981177</td>\n",
       "      <td>0.990854</td>\n",
       "      <td>0.971499</td>\n",
       "      <td>0.980000</td>\n",
       "      <td>0.999271</td>\n",
       "    </tr>\n",
       "    <tr>\n",
       "      <th>test</th>\n",
       "      <td>0.957589</td>\n",
       "      <td>0.956069</td>\n",
       "      <td>0.971545</td>\n",
       "      <td>0.940594</td>\n",
       "      <td>0.952381</td>\n",
       "      <td>0.991115</td>\n",
       "    </tr>\n",
       "  </tbody>\n",
       "</table>\n",
       "</div>"
      ],
      "text/plain": [
       "       accuracy  balanced accuracy  sensitivity  specificity        F1  \\\n",
       "train  0.982133           0.981177     0.990854     0.971499  0.980000   \n",
       "test   0.957589           0.956069     0.971545     0.940594  0.952381   \n",
       "\n",
       "        ROC AUC  \n",
       "train  0.999271  \n",
       "test   0.991115  "
      ]
     },
     "execution_count": 400,
     "metadata": {},
     "output_type": "execute_result"
    }
   ],
   "source": [
    "metrics_df(svm_best,X_train,y_train,X_test,y_test)"
   ]
  },
  {
   "cell_type": "code",
   "execution_count": 401,
   "id": "18749f57",
   "metadata": {},
   "outputs": [
    {
     "name": "stdout",
     "output_type": "stream",
     "text": [
      "|       |   accuracy |   balanced accuracy |   sensitivity |   specificity |       F1 |   ROC AUC |\n",
      "|:------|-----------:|--------------------:|--------------:|--------------:|---------:|----------:|\n",
      "| train |   0.982133 |            0.981177 |      0.990854 |      0.971499 | 0.98     |  0.999271 |\n",
      "| test  |   0.957589 |            0.956069 |      0.971545 |      0.940594 | 0.952381 |  0.991115 |\n"
     ]
    }
   ],
   "source": [
    "print(metrics_df(svm_best,X_train,y_train,X_test,y_test).to_markdown())"
   ]
  },
  {
   "cell_type": "code",
   "execution_count": 399,
   "id": "e3f9ccbd",
   "metadata": {},
   "outputs": [
    {
     "name": "stderr",
     "output_type": "stream",
     "text": [
      "/var/folders/t0/z45sbs_x4qggjl5km6v2t42m0000gn/T/ipykernel_30139/1989062011.py:6: MatplotlibDeprecationWarning: savefig() got unexpected keyword argument \"bbox_tight\" which is no longer supported as of 3.3 and will become an error in 3.6\n",
      "  plt.savefig(\"../images/svm_cvec_best_confusion_mat.png\",dpi=150,bbox_tight=True)\n"
     ]
    },
    {
     "data": {
      "text/plain": [
       "<Figure size 640x480 with 0 Axes>"
      ]
     },
     "metadata": {},
     "output_type": "display_data"
    },
    {
     "data": {
      "image/png": "[encoded data removed]",
      "text/plain": [
       "<Figure size 640x480 with 2 Axes>"
      ]
     },
     "metadata": {},
     "output_type": "display_data"
    }
   ],
   "source": [
    "from sklearn.metrics import ConfusionMatrixDisplay\n",
    "plt.figure()\n",
    "ConfusionMatrixDisplay(confusion_matrix(y_test,svm_best.predict(X_test))).plot()\n",
    "plt.title(\"SVC with CountVectorization\",fontsize=14)\n",
    "\n",
    "plt.savefig(\"../images/svm_cvec_best_confusion_mat.png\",dpi=150,bbox_tight=True)\n",
    "plt.show()"
   ]
  },
  {
   "cell_type": "code",
   "execution_count": null,
   "id": "be71c63d",
   "metadata": {},
   "outputs": [],
   "source": []
  },
  {
   "cell_type": "markdown",
   "id": "57598290",
   "metadata": {},
   "source": [
    "## Conclusions:\n",
    "\n",
    "- The __SVC__ model performs best, with 0.997 train and 0.954 test balanced accuracy"
   ]
  },
  {
   "cell_type": "markdown",
   "id": "165bdbd8",
   "metadata": {},
   "source": []
  }
 ],
 "metadata": {
  "kernelspec": {
   "display_name": "Python 3 (ipykernel)",
   "language": "python",
   "name": "python3"
  },
  "language_info": {
   "codemirror_mode": {
    "name": "ipython",
    "version": 3
   },
   "file_extension": ".py",
   "mimetype": "text/x-python",
   "name": "python",
   "nbconvert_exporter": "python",
   "pygments_lexer": "ipython3",
   "version": "3.9.13"
  }
 },
 "nbformat": 4,
 "nbformat_minor": 5
}
